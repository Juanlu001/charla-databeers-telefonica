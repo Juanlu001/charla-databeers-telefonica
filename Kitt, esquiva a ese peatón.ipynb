{
 "cells": [
  {
   "cell_type": "markdown",
   "metadata": {
    "slideshow": {
     "slide_type": "slide"
    }
   },
   "source": [
    "<img src=\"img/kitt.jpg\" alt=\"«Kitt, esquiva a ese peatón»\" style=\"margin-left: auto; margin-right: auto;\">\n",
    "\n",
    "<h2 id=\"Juan-Luis-Cano-Rodríguez-hello@juanlu.space\" style=\"text-align: center\">Juan Luis Cano Rodríguez <a href=\"mailto:hello@juanlu.space\">hello@juanlu.space</a><a class=\"anchor-link\" href=\"#Juan-Luis-Cano-Rodríguez-hello@juanlu.space\">¶</a> <br/> 2017-01-12 Databeers Branded Event - Telefónica<a class=\"anchor-link\" href=\"#2017-01-12-Databeers-Branded-Event---Telefónica\">¶</a></h2>"
   ]
  },
  {
   "cell_type": "markdown",
   "metadata": {
    "slideshow": {
     "slide_type": "slide"
    }
   },
   "source": [
    "<img src=\"img/yo.jpg\" alt=\"Yo\" style=\"margin-left: auto; margin-right: auto;\" width=\"400px\">"
   ]
  },
  {
   "cell_type": "markdown",
   "metadata": {
    "slideshow": {
     "slide_type": "slide"
    }
   },
   "source": [
    "<img src=\"img/what.jpg\" alt=\"What people think I do\" style=\"margin-left: auto; margin-right: auto;\">\n",
    "\n",
    "https://twitter.com/kirkdborne/status/622565590230827008"
   ]
  },
  {
   "cell_type": "markdown",
   "metadata": {
    "slideshow": {
     "slide_type": "subslide"
    }
   },
   "source": [
    "<img src=\"img/icon.jpg\" alt=\"¿Ningún algoritmo lleva bigote?\" style=\"margin-left: auto; margin-right: auto;\" width=\"300px\">\n",
    "\n",
    "> «El planeta está en manos de informáticos con granos y gafas [...] que se saben de memoria todos los diálogos de _Star Wars_ pero que tienen la misma imaginación que el agente Smith.»\n",
    "> \n",
    "> — Frédéric Beigbeder, premio ICON Agitación Cultural 2016.\n",
    "\n",
    "https://twitter.com/alejacma/status/814570855418171392"
   ]
  },
  {
   "cell_type": "markdown",
   "metadata": {
    "slideshow": {
     "slide_type": "subslide"
    }
   },
   "source": [
    "<img src=\"img/alexa.jpg\" alt=\"Amazon Alexa\" style=\"margin-left: auto; margin-right: auto;\">\n",
    "\n",
    "http://www.theregister.co.uk/2017/01/07/tv_anchor_says_alexa_buy_me_a_dollhouse_and_she_does/"
   ]
  },
  {
   "cell_type": "markdown",
   "metadata": {
    "slideshow": {
     "slide_type": "slide"
    }
   },
   "source": [
    "<img src=\"img/selfdriving.gif\" alt=\"Introducción a los coches autónomos\" style=\"margin-left: auto; margin-right: auto;\">\n",
    "\n",
    "https://www.fastcodesign.com/3052738/how-ui-ux-design-will-map-the-future-of-self-driving-cars"
   ]
  },
  {
   "cell_type": "markdown",
   "metadata": {
    "slideshow": {
     "slide_type": "subslide"
    }
   },
   "source": [
    "<img src=\"img/lidar.jpg\" alt=\"Sensores, radar, LIDAR, actualizaciones automáticas\" style=\"margin-left: auto; margin-right: auto;\">\n",
    "\n",
    "http://robohub.org/how-do-self-driving-cars-work/"
   ]
  },
  {
   "cell_type": "markdown",
   "metadata": {
    "slideshow": {
     "slide_type": "notes"
    }
   },
   "source": [
    "\"Google’s Self-Driving Car gathers almost 1 GB of data per second\""
   ]
  },
  {
   "cell_type": "markdown",
   "metadata": {
    "slideshow": {
     "slide_type": "subslide"
    }
   },
   "source": [
    "<img src=\"img/future.jpg\" alt=\"El futuro: urbanismo, propiedad privada\" style=\"margin-left: auto; margin-right: auto;\">\n",
    "\n",
    "http://audi-urban-future-initiative.com/"
   ]
  },
  {
   "cell_type": "markdown",
   "metadata": {
    "slideshow": {
     "slide_type": "subslide"
    }
   },
   "source": [
    "<img src=\"img/crash.png\" alt=\"Choque Tesla en mayo\" style=\"margin-left: auto; margin-right: auto;\">\n",
    "\n",
    "http://www.techrepublic.com/article/tesla-driver-dies-in-first-fatality-with-autopilot-what-it-means-for-the-future-of-driverless-cars/"
   ]
  },
  {
   "cell_type": "markdown",
   "metadata": {
    "slideshow": {
     "slide_type": "slide"
    }
   },
   "source": [
    "<img src=\"img/trolley_orig.png\" alt=\"El dilema del tranvía\" style=\"margin-left: auto; margin-right: auto;\">\n",
    "\n",
    "http://www.wikiwand.com/es/Dilema_del_tranv%C3%ADa"
   ]
  },
  {
   "cell_type": "markdown",
   "metadata": {},
   "source": [
    "Propuesto en 1967 por la filósofa británica Philippa Foot."
   ]
  },
  {
   "cell_type": "markdown",
   "metadata": {
    "slideshow": {
     "slide_type": "subslide"
    }
   },
   "source": [
    "<img src=\"img/mill.jpg\" alt=\"Mal menor: matar a una persona\" style=\"margin-left: auto; margin-right: auto;\">"
   ]
  },
  {
   "cell_type": "markdown",
   "metadata": {
    "slideshow": {
     "slide_type": "skip"
    }
   },
   "source": [
    "La felicidad es la ausencia de dolor."
   ]
  },
  {
   "cell_type": "markdown",
   "metadata": {
    "slideshow": {
     "slide_type": "subslide"
    }
   },
   "source": [
    "<img src=\"img/moral.png\" alt=\"¿Cómo cuantificamos el mal menor?\" style=\"margin-left: auto; margin-right: auto;\">\n",
    "\n",
    "http://moralmachine.mit.edu/"
   ]
  },
  {
   "cell_type": "markdown",
   "metadata": {
    "slideshow": {
     "slide_type": "subslide"
    }
   },
   "source": [
    "<img src=\"img/evil.png\" alt=\"¿Y si no nos implicamos?\" style=\"margin-left: auto; margin-right: auto;\">"
   ]
  },
  {
   "cell_type": "markdown",
   "metadata": {
    "slideshow": {
     "slide_type": "subslide"
    }
   },
   "source": [
    "<img src=\"img/roulette.jpg\" alt=\"¿Tirar un dado: ¿Te montarías en un coche así?\" style=\"margin-left: auto; margin-right: auto;\">"
   ]
  },
  {
   "cell_type": "markdown",
   "metadata": {
    "slideshow": {
     "slide_type": "subslide"
    }
   },
   "source": [
    "<img src=\"img/lock.jpg\" alt=\"¿Y si el algoritmo que lleva tu coche fuese secreto?\" style=\"margin-left: auto; margin-right: auto;\">"
   ]
  },
  {
   "cell_type": "markdown",
   "metadata": {
    "slideshow": {
     "slide_type": "subslide"
    }
   },
   "source": [
    "<img src=\"img/responsibility.jpg\" alt=\"¿De quién es la responsabilidad?\" style=\"margin-left: auto; margin-right: auto;\">"
   ]
  },
  {
   "cell_type": "markdown",
   "metadata": {
    "slideshow": {
     "slide_type": "subslide"
    }
   },
   "source": [
    "<img src=\"img/bsod.png\" alt=\"¿Cuál es el papel de los programadores?\" style=\"margin-left: auto; margin-right: auto;\" width=\"800px\">"
   ]
  },
  {
   "cell_type": "markdown",
   "metadata": {
    "slideshow": {
     "slide_type": "notes"
    }
   },
   "source": [
    "Ausencia de código deontológico, atribuciones o regulaciones."
   ]
  },
  {
   "cell_type": "markdown",
   "metadata": {
    "slideshow": {
     "slide_type": "slide"
    }
   },
   "source": [
    "<img src=\"img/chaos.jpg\" alt=\"Demasiadas opciones sin un camino claro\" style=\"margin-left: auto; margin-right: auto;\">"
   ]
  },
  {
   "cell_type": "markdown",
   "metadata": {
    "slideshow": {
     "slide_type": "subslide"
    }
   },
   "source": [
    "<img src=\"img/icon.jpg\" alt=\"¿Ningún algoritmo lleva bigote?\" style=\"margin-left: auto; margin-right: auto;\" width=\"400px\">"
   ]
  },
  {
   "cell_type": "markdown",
   "metadata": {
    "slideshow": {
     "slide_type": "slide"
    }
   },
   "source": [
    "<table style=\"border: none\">\n",
    "  <colgroup>\n",
    "    <col style=\"width:60%\">\n",
    "    <col style=\"width:40%\">\n",
    "  </colgroup>  \n",
    "  <tbody>\n",
    "<tr style=\"border: none\">\n",
    "<td style=\"border: none\">\n",
    "\n",
    "<img src=\"img/cuqui.jpg\" alt=\"En bici estáis más cuquis\">\n",
    "\n",
    "</td>\n",
    "<td style=\"border: none\">\n",
    "\n",
    "<p style=\"text-align: right; font-size: 1.5em; font-weight: bold; line-height: 1.5em;\">«En bici estáis más cuquis» <br/>— @MadCycleCuqui</p>\n",
    "\n",
    "<p style=\"text-align: right; font-size: 1.5em; font-weight: bold; line-height: 1.5em;\">🚲🚲🚲</h2>\n",
    "\n",
    "<p style=\"text-align: right; font-size: 1.5em; font-weight: bold; line-height: 1.5em;\">hello@juanlu.space <br/>@Pybonacci</p>\n",
    "\n",
    "</td>\n",
    "</tr>\n",
    "  </tbody>\n",
    "</table>"
   ]
  }
 ],
 "metadata": {
  "anaconda-cloud": {},
  "celltoolbar": "Slideshow",
  "kernelspec": {
   "display_name": "Python [conda env:py35]",
   "language": "python",
   "name": "conda-env-py35-py"
  },
  "language_info": {
   "codemirror_mode": {
    "name": "ipython",
    "version": 3
   },
   "file_extension": ".py",
   "mimetype": "text/x-python",
   "name": "python",
   "nbconvert_exporter": "python",
   "pygments_lexer": "ipython3",
   "version": "3.5.2"
  }
 },
 "nbformat": 4,
 "nbformat_minor": 2
}
