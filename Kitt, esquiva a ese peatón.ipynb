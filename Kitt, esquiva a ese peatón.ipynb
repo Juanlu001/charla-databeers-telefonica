{
 "cells": [
  {
   "cell_type": "markdown",
   "metadata": {
    "slideshow": {
     "slide_type": "slide"
    }
   },
   "source": [
    "<img src=\"img/kitt.jpg\" alt=\"«Kitt, esquiva a ese peatón»\" style=\"margin-left: auto; margin-right: auto;\">\n",
    "\n",
    "<h2 id=\"Juan-Luis-Cano-Rodríguez-hello@juanlu.space\">Juan Luis Cano Rodríguez <a href=\"mailto:hello@juanlu.space\">hello@juanlu.space</a><a class=\"anchor-link\" href=\"#Juan-Luis-Cano-Rodríguez-hello@juanlu.space\">¶</a> <br/> 2017-01-12 Databeers Branded Event - Telefónica<a class=\"anchor-link\" href=\"#2017-01-12-Databeers-Branded-Event---Telefónica\">¶</a></h2>"
   ]
  },
  {
   "cell_type": "markdown",
   "metadata": {
    "slideshow": {
     "slide_type": "slide"
    }
   },
   "source": [
    "# ¿Quién soy yo?\n",
    "\n",
    "<img src=\"img/yo.png\" alt=\"Yo\" style=\"margin-left: auto; margin-right: auto;\" width=\"600px\">"
   ]
  },
  {
   "cell_type": "markdown",
   "metadata": {
    "slideshow": {
     "slide_type": "slide"
    }
   },
   "source": [
    "# _What people think I do_\n",
    "\n",
    "<img src=\"img/what.jpg\" alt=\"What people think I do\" style=\"margin-left: auto; margin-right: auto;\">\n",
    "\n",
    "https://twitter.com/kirkdborne/status/622565590230827008"
   ]
  },
  {
   "cell_type": "markdown",
   "metadata": {
    "slideshow": {
     "slide_type": "subslide"
    }
   },
   "source": [
    "<img src=\"img/icon.jpg\" alt=\"¿Ningún algoritmo lleva bigote?\" style=\"margin-left: auto; margin-right: auto;\" width=\"400px\">\n",
    "\n",
    "> «El planeta está en manos de informáticos con granos y gafas [...] que se saben de memoria todos los diálogos de _Star Wars_ pero que tienen la misma imaginación que el agente Smith.»\n",
    "> \n",
    "> — Frédéric Beigbeder, premio ICON Agitación Cultural 2016.\n",
    "\n",
    "https://twitter.com/alejacma/status/814570855418171392"
   ]
  },
  {
   "cell_type": "markdown",
   "metadata": {
    "slideshow": {
     "slide_type": "subslide"
    }
   },
   "source": [
    "# Diversión con Amazon Alexa\n",
    "\n",
    "<img src=\"img/alexa.jpg\" alt=\"Amazon Alexa\" style=\"margin-left: auto; margin-right: auto;\">\n",
    "\n",
    "http://www.theregister.co.uk/2017/01/07/tv_anchor_says_alexa_buy_me_a_dollhouse_and_she_does/"
   ]
  },
  {
   "cell_type": "markdown",
   "metadata": {
    "slideshow": {
     "slide_type": "slide"
    }
   },
   "source": [
    "# Intro a los coches autónomos"
   ]
  },
  {
   "cell_type": "markdown",
   "metadata": {
    "slideshow": {
     "slide_type": "subslide"
    }
   },
   "source": [
    "# Sensores, radar, LIDAR, actualizaciones automáticas"
   ]
  },
  {
   "cell_type": "markdown",
   "metadata": {
    "slideshow": {
     "slide_type": "subslide"
    }
   },
   "source": [
    "# El futuro: urbanismo, propiedad privada"
   ]
  },
  {
   "cell_type": "markdown",
   "metadata": {
    "slideshow": {
     "slide_type": "subslide"
    }
   },
   "source": [
    "# Choque Tesla en mayo\n",
    "\n",
    "http://www.techrepublic.com/article/tesla-driver-dies-in-first-fatality-with-autopilot-what-it-means-for-the-future-of-driverless-cars/"
   ]
  },
  {
   "cell_type": "markdown",
   "metadata": {
    "slideshow": {
     "slide_type": "slide"
    }
   },
   "source": [
    "# Presentación del dilema del tranvía\n",
    "\n",
    "http://www.wikiwand.com/es/Dilema_del_tranv%C3%ADa#/Conducci.C3.B3n_autom.C3.A1tica"
   ]
  },
  {
   "cell_type": "markdown",
   "metadata": {
    "slideshow": {
     "slide_type": "subslide"
    }
   },
   "source": [
    "# Mal menor: matar a una persona [utilitarismo]"
   ]
  },
  {
   "cell_type": "markdown",
   "metadata": {
    "slideshow": {
     "slide_type": "subslide"
    }
   },
   "source": [
    "# ¿Y 10 criminales? ¿Qué variables metemos?"
   ]
  },
  {
   "cell_type": "markdown",
   "metadata": {
    "slideshow": {
     "slide_type": "subslide"
    }
   },
   "source": [
    "# Variación: ¿Y si no nos implicamos?"
   ]
  },
  {
   "cell_type": "markdown",
   "metadata": {
    "slideshow": {
     "slide_type": "subslide"
    }
   },
   "source": [
    "# Tirar un dado: ¿Te montarías en un coche así?"
   ]
  },
  {
   "cell_type": "markdown",
   "metadata": {
    "slideshow": {
     "slide_type": "subslide"
    }
   },
   "source": [
    "# ¿Y si el algoritmo que lleva tu coche fuese secreto?"
   ]
  },
  {
   "cell_type": "markdown",
   "metadata": {
    "slideshow": {
     "slide_type": "subslide"
    }
   },
   "source": [
    "# ¿De quién es la responsabilidad?"
   ]
  },
  {
   "cell_type": "markdown",
   "metadata": {
    "slideshow": {
     "slide_type": "subslide"
    }
   },
   "source": [
    "# ¿Aceptarán los programadores compartir la responsabilidad?\n",
    "\n",
    "Ausencia de código deontológico, atribuciones o regulaciones."
   ]
  },
  {
   "cell_type": "markdown",
   "metadata": {
    "slideshow": {
     "slide_type": "slide"
    }
   },
   "source": [
    "# Estas son nuestras opciones"
   ]
  },
  {
   "cell_type": "markdown",
   "metadata": {
    "slideshow": {
     "slide_type": "subslide"
    }
   },
   "source": [
    "# Artículo de ICON otra vez"
   ]
  },
  {
   "cell_type": "markdown",
   "metadata": {
    "slideshow": {
     "slide_type": "slide"
    }
   },
   "source": [
    "<table style=\"border: none\">\n",
    "  <colgroup>\n",
    "    <col style=\"width:60%\">\n",
    "    <col style=\"width:40%\">\n",
    "  </colgroup>  \n",
    "  <tbody>\n",
    "<tr style=\"border: none\">\n",
    "<td style=\"border: none\">\n",
    "\n",
    "<img src=\"img/cuqui.jpg\" alt=\"En bici estáis más cuquis\">\n",
    "\n",
    "</td>\n",
    "<td style=\"border: none\">\n",
    "\n",
    "<h2>«En bici estáis más cuquis». <br/>— @MadCycleCuqui</h2>\n",
    "\n",
    "</td>\n",
    "</tr>\n",
    "  </tbody>\n",
    "</table>\n"
   ]
  }
 ],
 "metadata": {
  "anaconda-cloud": {},
  "celltoolbar": "Slideshow",
  "kernelspec": {
   "display_name": "Python [conda env:py35]",
   "language": "python",
   "name": "conda-env-py35-py"
  },
  "language_info": {
   "codemirror_mode": {
    "name": "ipython",
    "version": 3
   },
   "file_extension": ".py",
   "mimetype": "text/x-python",
   "name": "python",
   "nbconvert_exporter": "python",
   "pygments_lexer": "ipython3",
   "version": "3.5.2"
  }
 },
 "nbformat": 4,
 "nbformat_minor": 2
}
